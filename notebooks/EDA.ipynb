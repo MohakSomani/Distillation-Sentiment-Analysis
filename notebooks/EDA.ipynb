{
 "cells": [
  {
   "cell_type": "code",
   "execution_count": null,
   "id": "0db2db28",
   "metadata": {},
   "outputs": [],
   "source": [
    "from datasets import load_from_disk\n",
    "import pandas as pd\n",
    "\n",
    "dataset = load_from_disk(\"data/raw/sst2\")\n",
    "df = pd.DataFrame(dataset[\"train\"])\n",
    "\n"
   ]
  },
  {
   "cell_type": "code",
   "execution_count": null,
   "id": "ad4ff363",
   "metadata": {},
   "outputs": [],
   "source": [
    "df[\"label\"].value_counts().plot(kind=\"bar\", title=\"Class Distribution\")\n"
   ]
  },
  {
   "cell_type": "code",
   "execution_count": null,
   "id": "e700392d",
   "metadata": {},
   "outputs": [],
   "source": [
    "df[\"text_length\"] = df[\"sentence\"].apply(len)\n",
    "df[\"text_length\"].hist(bins=30)\n"
   ]
  },
  {
   "cell_type": "code",
   "execution_count": null,
   "id": "41c18ec1",
   "metadata": {},
   "outputs": [],
   "source": [
    "\n",
    "from wordcloud import WordCloud\n",
    "text = \" \".join(df[\"sentence\"])\n",
    "WordCloud().generate(text).to_image()"
   ]
  }
 ],
 "metadata": {
  "kernelspec": {
   "display_name": ".venv",
   "language": "python",
   "name": "python3"
  },
  "language_info": {
   "name": "python",
   "version": "3.12.3"
  }
 },
 "nbformat": 4,
 "nbformat_minor": 5
}
