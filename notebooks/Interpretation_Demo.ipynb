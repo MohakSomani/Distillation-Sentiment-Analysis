{
 "cells": [
  {
   "cell_type": "code",
   "execution_count": null,
   "id": "8ac5659c",
   "metadata": {},
   "outputs": [],
   "source": [
    "!pip install lime shap matplotlib\n"
   ]
  },
  {
   "cell_type": "code",
   "execution_count": null,
   "id": "add5a7f3",
   "metadata": {},
   "outputs": [],
   "source": [
    "from interpretability.posthoc.lime_explainer \n",
    "import LIMESentimentExplainer\n",
    "explainer = LIMESentimentExplainer(\"models/baselines/sst2_lr.pkl\", \"models/baselines/sst2_vectorizer.pkl\")\n",
    "html = explainer.explain(\"The plot was predictable but acting saved the movie\")\n",
    "from IPython.display import HTML\n",
    "HTML(html)"
   ]
  },
  {
   "cell_type": "code",
   "execution_count": null,
   "id": "3d0486a7",
   "metadata": {},
   "outputs": [],
   "source": [
    "from interpretability.posthoc.shap_explainer import SHAPSentimentExplainer\n",
    "explainer = SHAPSentimentExplainer(\"models/transformers/bert-base-uncased\")\n",
    "explainer.plot_explanation(\"This film deserves all awards\")\n"
   ]
  },
  {
   "cell_type": "code",
   "execution_count": null,
   "id": "22ad5ad6",
   "metadata": {},
   "outputs": [],
   "source": [
    "\n",
    "%matplotlib inline\n",
    "from interpretability.self_interpret.attention_viz import visualize_attention\n",
    "visualize_attention(\"I hated the ending but loved the characters\")"
   ]
  }
 ],
 "metadata": {
  "kernelspec": {
   "display_name": ".venv",
   "language": "python",
   "name": "python3"
  },
  "language_info": {
   "name": "python",
   "version": "3.12.3"
  }
 },
 "nbformat": 4,
 "nbformat_minor": 5
}
